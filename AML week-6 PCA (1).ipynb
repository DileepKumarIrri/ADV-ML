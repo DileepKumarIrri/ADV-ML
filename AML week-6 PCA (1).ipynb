{
 "cells": [
  {
   "cell_type": "markdown",
   "id": "806b1ae2",
   "metadata": {},
   "source": [
    "# WEEK-6"
   ]
  },
  {
   "cell_type": "markdown",
   "id": "a1a7bec0",
   "metadata": {},
   "source": [
    "AIM: Write a program to perform any of the following Dimensionality Reduction techniques onreal time datasets.\n",
    "a) Principal Component Analysis"
   ]
  },
  {
   "cell_type": "markdown",
   "id": "a53dfb36",
   "metadata": {},
   "source": [
    "DESCRIPITION:\n",
    "Principal Component Analysis (PCA) is a statistical procedure that uses an orthogonal transformation that converts a set of correlated variables to a set of uncorrelated variables. PCA is the most widely used tool in exploratory data analysis and in machine learning for predictive models. Moreover, PCA is an unsupervised statistical technique used to examine the interrelations among a set of variables. It is also known as a general factor analysis where regression determines a line of best fit."
   ]
  },
  {
   "cell_type": "code",
   "execution_count": 2,
   "id": "a0d80e21",
   "metadata": {},
   "outputs": [],
   "source": [
    "import numpy as np\n",
    "import pandas as pd\n",
    "from sklearn.decomposition import PCA"
   ]
  },
  {
   "cell_type": "code",
   "execution_count": 3,
   "id": "5c2858f5",
   "metadata": {},
   "outputs": [
    {
     "data": {
      "text/html": [
       "<div>\n",
       "<style scoped>\n",
       "    .dataframe tbody tr th:only-of-type {\n",
       "        vertical-align: middle;\n",
       "    }\n",
       "\n",
       "    .dataframe tbody tr th {\n",
       "        vertical-align: top;\n",
       "    }\n",
       "\n",
       "    .dataframe thead th {\n",
       "        text-align: right;\n",
       "    }\n",
       "</style>\n",
       "<table border=\"1\" class=\"dataframe\">\n",
       "  <thead>\n",
       "    <tr style=\"text-align: right;\">\n",
       "      <th></th>\n",
       "      <th>sepal_length</th>\n",
       "      <th>sepal_width</th>\n",
       "      <th>petal_length</th>\n",
       "      <th>petal_width</th>\n",
       "      <th>species</th>\n",
       "    </tr>\n",
       "  </thead>\n",
       "  <tbody>\n",
       "    <tr>\n",
       "      <th>0</th>\n",
       "      <td>5.1</td>\n",
       "      <td>3.5</td>\n",
       "      <td>1.4</td>\n",
       "      <td>0.2</td>\n",
       "      <td>setosa</td>\n",
       "    </tr>\n",
       "    <tr>\n",
       "      <th>1</th>\n",
       "      <td>4.9</td>\n",
       "      <td>3.0</td>\n",
       "      <td>1.4</td>\n",
       "      <td>0.2</td>\n",
       "      <td>setosa</td>\n",
       "    </tr>\n",
       "    <tr>\n",
       "      <th>2</th>\n",
       "      <td>4.7</td>\n",
       "      <td>3.2</td>\n",
       "      <td>1.3</td>\n",
       "      <td>0.2</td>\n",
       "      <td>setosa</td>\n",
       "    </tr>\n",
       "    <tr>\n",
       "      <th>3</th>\n",
       "      <td>4.6</td>\n",
       "      <td>3.1</td>\n",
       "      <td>1.5</td>\n",
       "      <td>0.2</td>\n",
       "      <td>setosa</td>\n",
       "    </tr>\n",
       "    <tr>\n",
       "      <th>4</th>\n",
       "      <td>5.0</td>\n",
       "      <td>3.6</td>\n",
       "      <td>1.4</td>\n",
       "      <td>0.2</td>\n",
       "      <td>setosa</td>\n",
       "    </tr>\n",
       "  </tbody>\n",
       "</table>\n",
       "</div>"
      ],
      "text/plain": [
       "   sepal_length  sepal_width  petal_length  petal_width species\n",
       "0           5.1          3.5           1.4          0.2  setosa\n",
       "1           4.9          3.0           1.4          0.2  setosa\n",
       "2           4.7          3.2           1.3          0.2  setosa\n",
       "3           4.6          3.1           1.5          0.2  setosa\n",
       "4           5.0          3.6           1.4          0.2  setosa"
      ]
     },
     "execution_count": 3,
     "metadata": {},
     "output_type": "execute_result"
    }
   ],
   "source": [
    "df = pd.read_csv(r\"C:\\Users\\lokes\\anaconda3\\pkgs\\bokeh-2.4.2-py39haa95532_0\\Lib\\site-packages\\bokeh\\sampledata\\_data\\iris.csv\")\n",
    "df.head()"
   ]
  },
  {
   "cell_type": "code",
   "execution_count": 4,
   "id": "30854a77",
   "metadata": {},
   "outputs": [],
   "source": [
    "# X = df.drop(columns = ['species'],axis = 1)\n",
    "# Y = df['species']\n",
    "df =df.drop(columns = ['species'])"
   ]
  },
  {
   "cell_type": "code",
   "execution_count": 5,
   "id": "f3505353",
   "metadata": {
    "scrolled": false
   },
   "outputs": [],
   "source": [
    "from sklearn.preprocessing import StandardScaler\n",
    "sc = StandardScaler()\n",
    "standard_scale = sc.fit_transform(df)"
   ]
  },
  {
   "cell_type": "code",
   "execution_count": 6,
   "id": "1450fb01",
   "metadata": {},
   "outputs": [
    {
     "data": {
      "text/plain": [
       "<AxesSubplot:>"
      ]
     },
     "execution_count": 6,
     "metadata": {},
     "output_type": "execute_result"
    },
    {
     "data": {
      "image/png": "[encoded data removed]",
      "text/plain": [
       "<Figure size 432x288 with 2 Axes>"
      ]
     },
     "metadata": {
      "needs_background": "light"
     },
     "output_type": "display_data"
    }
   ],
   "source": [
    "import seaborn as sns\n",
    "sd = pd.DataFrame(standard_scale)\n",
    "sns.heatmap(sd.corr())"
   ]
  },
  {
   "cell_type": "code",
   "execution_count": 7,
   "id": "7bdb01a1",
   "metadata": {},
   "outputs": [],
   "source": [
    "pca = PCA(n_components = 2)\n",
    "pca.fit(standard_scale)\n",
    "data_pca = pca.transform(standard_scale)\n"
   ]
  },
  {
   "cell_type": "code",
   "execution_count": 8,
   "id": "1a3fc878",
   "metadata": {},
   "outputs": [],
   "source": [
    "data_pca = pd.DataFrame(data_pca, columns = ['PCA1', 'PCA2'])"
   ]
  },
  {
   "cell_type": "code",
   "execution_count": 9,
   "id": "9ec65615",
   "metadata": {},
   "outputs": [
    {
     "name": "stdout",
     "output_type": "stream",
     "text": [
      "         PCA1      PCA2\n",
      "0   -2.264703  0.480027\n",
      "1   -2.080961 -0.674134\n",
      "2   -2.364229 -0.341908\n",
      "3   -2.299384 -0.597395\n",
      "4   -2.389842  0.646835\n",
      "..        ...       ...\n",
      "145  1.870503  0.386966\n",
      "146  1.564580 -0.896687\n",
      "147  1.521170  0.269069\n",
      "148  1.372788  1.011254\n",
      "149  0.960656 -0.024332\n",
      "\n",
      "[150 rows x 2 columns]\n"
     ]
    }
   ],
   "source": [
    "print(data_pca)"
   ]
  }
 ],
 "metadata": {
  "kernelspec": {
   "display_name": "Python 3 (ipykernel)",
   "language": "python",
   "name": "python3"
  },
  "language_info": {
   "codemirror_mode": {
    "name": "ipython",
    "version": 3
   },
   "file_extension": ".py",
   "mimetype": "text/x-python",
   "name": "python",
   "nbconvert_exporter": "python",
   "pygments_lexer": "ipython3",
   "version": "3.9.12"
  }
 },
 "nbformat": 4,
 "nbformat_minor": 5
}
